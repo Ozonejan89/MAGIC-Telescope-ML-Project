{
 "cells": [
  {
   "cell_type": "code",
   "execution_count": 24,
   "id": "9d2a837d-6c17-4454-ac78-c47449298008",
   "metadata": {},
   "outputs": [],
   "source": [
    "# Classifying Cosmic Particles with Machine Learning \n",
    "#** project Goal:** The objective of this project is to build and evaluate four different \n",
    "#machine learning models to classify high-energy particles from the Magic Gamma Telescope dataset.\n",
    "\n",
    "#**Workflow:**\n",
    "#1. Load and inspect the data.\n",
    "#2. Prepare the data by separating features and splitting for training and testing.\n",
    "#3. Apply feature scaling to standardize the data.\n",
    "#4. Train and evaluate four models: Logistic Regression, Decision Tree, Random Forest, and K-Nearest Neighbors.\n",
    "#5. Compare the accuracy of the models to identify the best performer.#"
   ]
  },
  {
   "cell_type": "code",
   "execution_count": 25,
   "id": "461946ad-5c1a-4bcb-9ec2-2dd211416ece",
   "metadata": {},
   "outputs": [],
   "source": [
    "import pandas as pd\n",
    "from sklearn.model_selection import train_test_split\n",
    "from sklearn.preprocessing import StandardScaler\n",
    "from sklearn.linear_model import LogisticRegression\n",
    "from sklearn.tree import DecisionTreeClassifier  # Fixed: lowercase 'tree' instead of 'Tree'\n",
    "from sklearn.ensemble import RandomForestClassifier \n",
    "from sklearn.neighbors import KNeighborsClassifier\n",
    "from sklearn.metrics import classification_report\n",
    "from sklearn.ensemble import RandomForestClassifier\n",
    "from sklearn.metrics import accuracy_score "
   ]
  },
  {
   "cell_type": "code",
   "execution_count": 26,
   "id": "31eaf1c4-64df-4868-8218-4206a2786f45",
   "metadata": {},
   "outputs": [
    {
     "name": "stdout",
     "output_type": "stream",
     "text": [
      "Dataset Shape: (19020, 11)\n"
     ]
    },
    {
     "data": {
      "text/html": [
       "<div>\n",
       "<style scoped>\n",
       "    .dataframe tbody tr th:only-of-type {\n",
       "        vertical-align: middle;\n",
       "    }\n",
       "\n",
       "    .dataframe tbody tr th {\n",
       "        vertical-align: top;\n",
       "    }\n",
       "\n",
       "    .dataframe thead th {\n",
       "        text-align: right;\n",
       "    }\n",
       "</style>\n",
       "<table border=\"1\" class=\"dataframe\">\n",
       "  <thead>\n",
       "    <tr style=\"text-align: right;\">\n",
       "      <th></th>\n",
       "      <th>fLength</th>\n",
       "      <th>fWidth</th>\n",
       "      <th>fSize</th>\n",
       "      <th>fConc</th>\n",
       "      <th>fConc1</th>\n",
       "      <th>fAsym</th>\n",
       "      <th>fM3Long</th>\n",
       "      <th>fM3Trans</th>\n",
       "      <th>fAlpha</th>\n",
       "      <th>fDist</th>\n",
       "      <th>class</th>\n",
       "    </tr>\n",
       "  </thead>\n",
       "  <tbody>\n",
       "    <tr>\n",
       "      <th>0</th>\n",
       "      <td>28.7967</td>\n",
       "      <td>16.0021</td>\n",
       "      <td>2.6449</td>\n",
       "      <td>0.3918</td>\n",
       "      <td>0.1982</td>\n",
       "      <td>27.7004</td>\n",
       "      <td>22.0110</td>\n",
       "      <td>-8.2027</td>\n",
       "      <td>40.0920</td>\n",
       "      <td>81.8828</td>\n",
       "      <td>g</td>\n",
       "    </tr>\n",
       "    <tr>\n",
       "      <th>1</th>\n",
       "      <td>31.6036</td>\n",
       "      <td>11.7235</td>\n",
       "      <td>2.5185</td>\n",
       "      <td>0.5303</td>\n",
       "      <td>0.3773</td>\n",
       "      <td>26.2722</td>\n",
       "      <td>23.8238</td>\n",
       "      <td>-9.9574</td>\n",
       "      <td>6.3609</td>\n",
       "      <td>205.2610</td>\n",
       "      <td>g</td>\n",
       "    </tr>\n",
       "    <tr>\n",
       "      <th>2</th>\n",
       "      <td>162.0520</td>\n",
       "      <td>136.0310</td>\n",
       "      <td>4.0612</td>\n",
       "      <td>0.0374</td>\n",
       "      <td>0.0187</td>\n",
       "      <td>116.7410</td>\n",
       "      <td>-64.8580</td>\n",
       "      <td>-45.2160</td>\n",
       "      <td>76.9600</td>\n",
       "      <td>256.7880</td>\n",
       "      <td>g</td>\n",
       "    </tr>\n",
       "    <tr>\n",
       "      <th>3</th>\n",
       "      <td>23.8172</td>\n",
       "      <td>9.5728</td>\n",
       "      <td>2.3385</td>\n",
       "      <td>0.6147</td>\n",
       "      <td>0.3922</td>\n",
       "      <td>27.2107</td>\n",
       "      <td>-6.4633</td>\n",
       "      <td>-7.1513</td>\n",
       "      <td>10.4490</td>\n",
       "      <td>116.7370</td>\n",
       "      <td>g</td>\n",
       "    </tr>\n",
       "    <tr>\n",
       "      <th>4</th>\n",
       "      <td>75.1362</td>\n",
       "      <td>30.9205</td>\n",
       "      <td>3.1611</td>\n",
       "      <td>0.3168</td>\n",
       "      <td>0.1832</td>\n",
       "      <td>-5.5277</td>\n",
       "      <td>28.5525</td>\n",
       "      <td>21.8393</td>\n",
       "      <td>4.6480</td>\n",
       "      <td>356.4620</td>\n",
       "      <td>g</td>\n",
       "    </tr>\n",
       "  </tbody>\n",
       "</table>\n",
       "</div>"
      ],
      "text/plain": [
       "    fLength    fWidth   fSize   fConc  fConc1     fAsym  fM3Long  fM3Trans  \\\n",
       "0   28.7967   16.0021  2.6449  0.3918  0.1982   27.7004  22.0110   -8.2027   \n",
       "1   31.6036   11.7235  2.5185  0.5303  0.3773   26.2722  23.8238   -9.9574   \n",
       "2  162.0520  136.0310  4.0612  0.0374  0.0187  116.7410 -64.8580  -45.2160   \n",
       "3   23.8172    9.5728  2.3385  0.6147  0.3922   27.2107  -6.4633   -7.1513   \n",
       "4   75.1362   30.9205  3.1611  0.3168  0.1832   -5.5277  28.5525   21.8393   \n",
       "\n",
       "    fAlpha     fDist class  \n",
       "0  40.0920   81.8828     g  \n",
       "1   6.3609  205.2610     g  \n",
       "2  76.9600  256.7880     g  \n",
       "3  10.4490  116.7370     g  \n",
       "4   4.6480  356.4620     g  "
      ]
     },
     "execution_count": 26,
     "metadata": {},
     "output_type": "execute_result"
    }
   ],
   "source": [
    "# Load the dataset from the CSV file\n",
    "df = pd.read_csv(\"MAGIC Gamma Telescope.csv\")\n",
    "\n",
    "# Display the shape (rows, columns) and the first 5 rows of the data\n",
    "print(\"Dataset Shape:\", df.shape)\n",
    "df.head()"
   ]
  },
  {
   "cell_type": "code",
   "execution_count": 27,
   "id": "1ab16833-5bca-4d3a-888a-a1786d94e52d",
   "metadata": {},
   "outputs": [],
   "source": [
    "# Separate the features (X) from the target variable (y)\n",
    "X = df.drop('class', axis=1)\n",
    "y = df['class']\n",
    "\n",
    "# Split the data into training (80%) and testing (20%) sets\n",
    "X_train, X_test, y_train, y_test = train_test_split(X, y, test_size=0.2, random_state=42)"
   ]
  },
  {
   "cell_type": "code",
   "execution_count": 28,
   "id": "fbb6aa2f-1a03-4403-8d28-37024751a468",
   "metadata": {},
   "outputs": [
    {
     "name": "stdout",
     "output_type": "stream",
     "text": [
      "Data has been successfully scaled.\n"
     ]
    }
   ],
   "source": [
    "# Create the scaler\n",
    "scaler = StandardScaler()\n",
    "\n",
    "# Fit the scaler on the training data and transform it\n",
    "X_train_scaled = scaler.fit_transform(X_train)\n",
    "\n",
    "# Use the same scaler to transform the test data\n",
    "X_test_scaled = scaler.transform(X_test)\n",
    "\n",
    "print(\"Data has been successfully scaled.\")"
   ]
  },
  {
   "cell_type": "code",
   "execution_count": 29,
   "id": "c549d612-9a8f-4bc4-8803-999a021fdb93",
   "metadata": {},
   "outputs": [
    {
     "name": "stdout",
     "output_type": "stream",
     "text": [
      "--- Training and evaluating Logistic Regression ---\n",
      "Accuracy: 79.31%\n",
      "\n",
      "--- Training and evaluating Decision Tree ---\n",
      "Accuracy: 81.26%\n",
      "\n",
      "--- Training and evaluating Random Forest ---\n",
      "Accuracy: 88.41%\n",
      "\n",
      "--- Training and evaluating K-Nearest Neighbors ---\n",
      "Accuracy: 83.44%\n",
      "\n"
     ]
    }
   ],
   "source": [
    "# Create a dictionary of the models to test\n",
    "models = {\n",
    "    \"Logistic Regression\": LogisticRegression(max_iter=1000),\n",
    "    \"Decision Tree\": DecisionTreeClassifier(random_state=42),\n",
    "    \"Random Forest\": RandomForestClassifier(random_state=42),\n",
    "    \"K-Nearest Neighbors\": KNeighborsClassifier(n_neighbors=5)\n",
    "}\n",
    "\n",
    "# Loop through each model to train, evaluate, and print its score\n",
    "for name, model in models.items():\n",
    "    print(f\"--- Training and evaluating {name} ---\")\n",
    "    \n",
    "    # Train the model on the scaled training data\n",
    "    model.fit(X_train_scaled, y_train)\n",
    "    \n",
    "    # Predict on the scaled test data\n",
    "    y_pred = model.predict(X_test_scaled)\n",
    "    \n",
    "    # Calculate and print the accuracy\n",
    "    accuracy = accuracy_score(y_test, y_pred)\n",
    "    print(f\"Accuracy: {accuracy * 100:.2f}%\\n\")"
   ]
  },
  {
   "cell_type": "code",
   "execution_count": 30,
   "id": "c4d0ed89-1d30-4455-aa99-512eb1351ddc",
   "metadata": {},
   "outputs": [],
   "source": [
    "#The results clearly show that the Random Forest Classifier is the\n",
    "#best-performing model for this dataset, achieving the highest accuracy of 88.41%."
   ]
  },
  {
   "cell_type": "code",
   "execution_count": 31,
   "id": "1a2cee40-7d1a-4d5e-af60-20928b4f0992",
   "metadata": {},
   "outputs": [
    {
     "name": "stdout",
     "output_type": "stream",
     "text": [
      "--- Classification Report for Random Forest Model ---\n",
      "              precision    recall  f1-score   support\n",
      "\n",
      "           g       0.89      0.94      0.91      2460\n",
      "           h       0.88      0.78      0.83      1344\n",
      "\n",
      "    accuracy                           0.88      3804\n",
      "   macro avg       0.88      0.86      0.87      3804\n",
      "weighted avg       0.88      0.88      0.88      3804\n",
      "\n"
     ]
    }
   ],
   "source": [
    "# First, I get to make  predictions on my best model (Random Forest) again\n",
    "# assuming  'forest_model' is my trained Random Forest from the loop\n",
    "forest_model = RandomForestClassifier(random_state=42)\n",
    "forest_model.fit(X_train_scaled,y_train)\n",
    "\n",
    "y_pred_forest = forest_model.predict(X_test_scaled)\n",
    "# Now, create and print the report\n",
    "report = classification_report(y_test, y_pred_forest)\n",
    "\n",
    "print(\"--- Classification Report for Random Forest Model ---\")\n",
    "print(report)"
   ]
  },
  {
   "cell_type": "code",
   "execution_count": 32,
   "id": "0bc00ae6-9850-40f3-af72-9abc972adc6c",
   "metadata": {},
   "outputs": [
    {
     "data": {
      "image/png": "[encoded data removed]",
      "text/plain": [
       "<Figure size 800x600 with 2 Axes>"
      ]
     },
     "metadata": {},
     "output_type": "display_data"
    }
   ],
   "source": [
    "import seaborn as sns\n",
    "import matplotlib.pyplot as plt\n",
    "from sklearn.metrics import confusion_matrix\n",
    "\n",
    "# We assume 'y_test' and 'y_pred_forest' still exist from the previous cell\n",
    "# Generate the confusion matrix\n",
    "cm = confusion_matrix(y_test, y_pred_forest)\n",
    "\n",
    "# Create a heatmap to visualize it\n",
    "plt.figure(figsize=(8, 6))\n",
    "sns.heatmap(cm, annot=True, fmt='d', cmap='Blues', \n",
    "            xticklabels=['Predicted Gamma (g)', 'Predicted Hadron (h)'], \n",
    "            yticklabels=['Actual Gamma (g)', 'Actual Hadron (h)'])\n",
    "plt.xlabel('Predicted Class')\n",
    "plt.ylabel('Actual Class')\n",
    "plt.title('Confusion Matrix for Random Forest Model')\n",
    "plt.show()"
   ]
  },
  {
   "cell_type": "code",
   "execution_count": null,
   "id": "8149e1ea-828d-48f1-8593-12965ea75eaf",
   "metadata": {},
   "outputs": [],
   "source": []
  },
  {
   "cell_type": "code",
   "execution_count": null,
   "id": "f0480cae-9b2d-4308-8064-48c655361ca5",
   "metadata": {},
   "outputs": [],
   "source": []
  },
  {
   "cell_type": "code",
   "execution_count": null,
   "id": "cb0eb05d-9a83-46dc-98bf-b7b826406b6f",
   "metadata": {},
   "outputs": [],
   "source": []
  }
 ],
 "metadata": {
  "kernelspec": {
   "display_name": "anaconda-panel-2023.05-py310",
   "language": "python",
   "name": "conda-env-anaconda-panel-2023.05-py310-py"
  },
  "language_info": {
   "codemirror_mode": {
    "name": "ipython",
    "version": 3
   },
   "file_extension": ".py",
   "mimetype": "text/x-python",
   "name": "python",
   "nbconvert_exporter": "python",
   "pygments_lexer": "ipython3",
   "version": "3.11.5"
  }
 },
 "nbformat": 4,
 "nbformat_minor": 5
}
